{
 "cells": [
  {
   "cell_type": "code",
   "execution_count": 98,
   "id": "b077721e",
   "metadata": {},
   "outputs": [],
   "source": [
    "import pandas as pd\n",
    "import numpy as np\n",
    "%matplotlib inline\n",
    "import matplotlib.pyplot as plt\n",
    "import seaborn as sns\n",
    "\n",
    "import plotly.express as px"
   ]
  },
  {
   "cell_type": "markdown",
   "id": "71938602",
   "metadata": {},
   "source": [
    "Тестовое задание на позицию “Аналитик данных”\n",
    " \n",
    "Имеется набор данных. Необходимо проанализировать его и представить ответы на вопросы с визуализацией каждого пункта.\n",
    " Ссылка: https://docs.google.com/spreadsheets/d/1DkdhWMrVjtflQfmCIKl8hCjSlIxph1L42_fgyFo0QPs/edit?usp=sharing\n",
    " \n",
    "Задание 1\n",
    " а) Какие подгруппы товаров наиболее часто покупают за все время продаж (минимум 4 группы)?\n",
    " б) Какие подгруппы товаров наиболее часто покупают за последние два года (минимум 4 группы)?\n",
    " в) Какие подгруппы товаров наиболее часто покупают за последний год(минимум 4 группы)?\n",
    "\n",
    " Подгруппа – Sub-Category\n",
    " Дата – Order_date\n",
    " Сделать вывод на основе полученных результатов.\n",
    "\n",
    " Задание 2\n",
    " Построить boxplot («Ящик с усами») на основе продаж (Sales). Найти мажоритарную черту (т.е. избавиться от аномалий и представить четкую картину распределения величин).\n",
    " Можно использовать правило трех сигм. Однако любые другие решения приветствуются.\n",
    "\n",
    " Задание 3\n",
    " Для этого задания необходимо разбить все покупки на энное количество групп “Sale_group” (Допустим маленькие продажи, средние и высокие) на основе Sales\n",
    "Сгруппировать данные на основе региона и группы продаж (Region, Sale_group). Определить основные тенденции и паттерны. Выделить наиболее «прибыльную» группу.\n",
    "\n",
    " Замечания: Работу лучше выполнить в jupyter и там же написать выводы по каждому заданию. После выполнения загрузите код на github.\n"
   ]
  },
  {
   "cell_type": "code",
   "execution_count": 99,
   "id": "12c47829",
   "metadata": {},
   "outputs": [
    {
     "data": {
      "text/html": [
       "<div>\n",
       "<style scoped>\n",
       "    .dataframe tbody tr th:only-of-type {\n",
       "        vertical-align: middle;\n",
       "    }\n",
       "\n",
       "    .dataframe tbody tr th {\n",
       "        vertical-align: top;\n",
       "    }\n",
       "\n",
       "    .dataframe thead th {\n",
       "        text-align: right;\n",
       "    }\n",
       "</style>\n",
       "<table border=\"1\" class=\"dataframe\">\n",
       "  <thead>\n",
       "    <tr style=\"text-align: right;\">\n",
       "      <th></th>\n",
       "      <th>ID</th>\n",
       "      <th>Order Date</th>\n",
       "      <th>Class</th>\n",
       "      <th>Region</th>\n",
       "      <th>Sub-Category</th>\n",
       "      <th>Sales</th>\n",
       "    </tr>\n",
       "  </thead>\n",
       "  <tbody>\n",
       "    <tr>\n",
       "      <th>0</th>\n",
       "      <td>646</td>\n",
       "      <td>30/12/2018</td>\n",
       "      <td>Стандарт</td>\n",
       "      <td>Урал</td>\n",
       "      <td>Appliances</td>\n",
       "      <td>37229,08</td>\n",
       "    </tr>\n",
       "    <tr>\n",
       "      <th>1</th>\n",
       "      <td>907</td>\n",
       "      <td>30/12/2018</td>\n",
       "      <td>Стандарт</td>\n",
       "      <td>Владивосток</td>\n",
       "      <td>Bookcases</td>\n",
       "      <td>20994,61</td>\n",
       "    </tr>\n",
       "    <tr>\n",
       "      <th>2</th>\n",
       "      <td>908</td>\n",
       "      <td>30/12/2018</td>\n",
       "      <td>Стандарт</td>\n",
       "      <td>Владивосток</td>\n",
       "      <td>Phones</td>\n",
       "      <td>42133,86</td>\n",
       "    </tr>\n",
       "    <tr>\n",
       "      <th>3</th>\n",
       "      <td>909</td>\n",
       "      <td>30/12/2018</td>\n",
       "      <td>Стандарт</td>\n",
       "      <td>Владивосток</td>\n",
       "      <td>Binders</td>\n",
       "      <td>10612</td>\n",
       "    </tr>\n",
       "    <tr>\n",
       "      <th>4</th>\n",
       "      <td>1297</td>\n",
       "      <td>30/12/2018</td>\n",
       "      <td>Стандарт</td>\n",
       "      <td>Калиниград</td>\n",
       "      <td>Binders</td>\n",
       "      <td>28781,13</td>\n",
       "    </tr>\n",
       "  </tbody>\n",
       "</table>\n",
       "</div>"
      ],
      "text/plain": [
       "     ID  Order Date     Class       Region Sub-Category     Sales\n",
       "0   646  30/12/2018  Стандарт         Урал   Appliances  37229,08\n",
       "1   907  30/12/2018  Стандарт  Владивосток    Bookcases  20994,61\n",
       "2   908  30/12/2018  Стандарт  Владивосток       Phones  42133,86\n",
       "3   909  30/12/2018  Стандарт  Владивосток      Binders     10612\n",
       "4  1297  30/12/2018  Стандарт   Калиниград      Binders  28781,13"
      ]
     },
     "execution_count": 99,
     "metadata": {},
     "output_type": "execute_result"
    }
   ],
   "source": [
    "gsheetid = '1DkdhWMrVjtflQfmCIKl8hCjSlIxph1L42_fgyFo0QPs' \n",
    "sheet_name = 'Sheet1'\n",
    "gsheet_url = f'https://docs.google.com/spreadsheets/d/{gsheetid}/gviz/tq?tqx=out:csv&sheet={sheet_name}'\n",
    "df = pd.read_csv(gsheet_url)\n",
    "df.head()"
   ]
  },
  {
   "cell_type": "code",
   "execution_count": 100,
   "id": "38fb6346",
   "metadata": {},
   "outputs": [
    {
     "data": {
      "text/plain": [
       "ID               int64\n",
       "Order Date      object\n",
       "Class           object\n",
       "Region          object\n",
       "Sub-Category    object\n",
       "Sales           object\n",
       "dtype: object"
      ]
     },
     "execution_count": 100,
     "metadata": {},
     "output_type": "execute_result"
    }
   ],
   "source": [
    "# проверяем типы данных\n",
    "df.dtypes"
   ]
  },
  {
   "cell_type": "code",
   "execution_count": 101,
   "id": "3d0803ab",
   "metadata": {},
   "outputs": [
    {
     "data": {
      "text/plain": [
       "ID              0\n",
       "Order Date      0\n",
       "Class           0\n",
       "Region          0\n",
       "Sub-Category    0\n",
       "Sales           0\n",
       "dtype: int64"
      ]
     },
     "execution_count": 101,
     "metadata": {},
     "output_type": "execute_result"
    }
   ],
   "source": [
    "# проверяем на наличие пустых значений - их нет\n",
    "df.isna().sum()"
   ]
  },
  {
   "cell_type": "code",
   "execution_count": 103,
   "id": "9a60e52c",
   "metadata": {},
   "outputs": [],
   "source": [
    "# Переименуем столбцы для удобства\n",
    "df = df.rename(columns={\"Order Date\": \"Order_Date\", \"Sub-Category\": \"Sub_Category\"})"
   ]
  },
  {
   "cell_type": "code",
   "execution_count": 104,
   "id": "2a902e62",
   "metadata": {},
   "outputs": [],
   "source": [
    "# Преобразуем типы данных для дальнейшей работы\n",
    "df['Order_Date'] = pd.to_datetime(df['Order_Date'], format='%d/%m/%Y')\n",
    "df['Sales'] = df['Sales'].str.replace(',', '.')\n",
    "df['Sales'] = df['Sales'].astype(float)"
   ]
  },
  {
   "cell_type": "markdown",
   "id": "6e387382",
   "metadata": {},
   "source": [
    "### Задание 1\n",
    "- а) Какие подгруппы товаров наиболее часто покупают за все время продаж (минимум 4 группы)? \n",
    "- б) Какие подгруппы товаров наиболее часто покупают за последние два года (минимум 4 группы)? \n",
    "- в) Какие подгруппы товаров наиболее часто покупают за последний год(минимум 4 группы)?"
   ]
  },
  {
   "cell_type": "markdown",
   "id": "a7d314b9",
   "metadata": {},
   "source": [
    "а) Какие подгруппы товаров наиболее часто покупают за все время продаж (минимум 4 группы)?"
   ]
  },
  {
   "cell_type": "code",
   "execution_count": 105,
   "id": "89877139",
   "metadata": {},
   "outputs": [
    {
     "data": {
      "text/html": [
       "<div>\n",
       "<style scoped>\n",
       "    .dataframe tbody tr th:only-of-type {\n",
       "        vertical-align: middle;\n",
       "    }\n",
       "\n",
       "    .dataframe tbody tr th {\n",
       "        vertical-align: top;\n",
       "    }\n",
       "\n",
       "    .dataframe thead th {\n",
       "        text-align: right;\n",
       "    }\n",
       "</style>\n",
       "<table border=\"1\" class=\"dataframe\">\n",
       "  <thead>\n",
       "    <tr style=\"text-align: right;\">\n",
       "      <th></th>\n",
       "      <th>Sub_Category</th>\n",
       "      <th>ID</th>\n",
       "    </tr>\n",
       "  </thead>\n",
       "  <tbody>\n",
       "    <tr>\n",
       "      <th>3</th>\n",
       "      <td>Binders</td>\n",
       "      <td>1492</td>\n",
       "    </tr>\n",
       "    <tr>\n",
       "      <th>12</th>\n",
       "      <td>Paper</td>\n",
       "      <td>1338</td>\n",
       "    </tr>\n",
       "    <tr>\n",
       "      <th>9</th>\n",
       "      <td>Furnishings</td>\n",
       "      <td>931</td>\n",
       "    </tr>\n",
       "    <tr>\n",
       "      <th>13</th>\n",
       "      <td>Phones</td>\n",
       "      <td>876</td>\n",
       "    </tr>\n",
       "  </tbody>\n",
       "</table>\n",
       "</div>"
      ],
      "text/plain": [
       "   Sub_Category    ID\n",
       "3       Binders  1492\n",
       "12        Paper  1338\n",
       "9   Furnishings   931\n",
       "13       Phones   876"
      ]
     },
     "execution_count": 105,
     "metadata": {},
     "output_type": "execute_result"
    }
   ],
   "source": [
    "df[['ID','Sub_Category']].groupby('Sub_Category', as_index = False)\\\n",
    "                         .count().sort_values(by='ID', ascending=False)\\\n",
    "                         .head(4)"
   ]
  },
  {
   "cell_type": "markdown",
   "id": "586e49cd",
   "metadata": {},
   "source": [
    "- б) Какие подгруппы товаров наиболее часто покупают за последние два года (минимум 4 группы)? \n",
    "- в) Какие подгруппы товаров наиболее часто покупают за последний год(минимум 4 группы)?"
   ]
  },
  {
   "cell_type": "code",
   "execution_count": 106,
   "id": "52d5ca83",
   "metadata": {},
   "outputs": [],
   "source": [
    "##Отфильтруем датасет,оставив только покупки за последние 2 года"
   ]
  },
  {
   "cell_type": "code",
   "execution_count": 115,
   "id": "f3cb7a40",
   "metadata": {},
   "outputs": [
    {
     "name": "stdout",
     "output_type": "stream",
     "text": [
      "2018-12-30 00:00:00\n"
     ]
    }
   ],
   "source": [
    "max_date = df['Order_Date'].max()"
   ]
  },
  {
   "cell_type": "code",
   "execution_count": 110,
   "id": "bd453523",
   "metadata": {},
   "outputs": [
    {
     "name": "stdout",
     "output_type": "stream",
     "text": [
      "2016-12-30 00:00:00\n",
      "2017-12-30 00:00:00\n"
     ]
    }
   ],
   "source": [
    "start_date_2_years = max_date - pd.DateOffset(years=2)\n",
    "print(start_date_2_years)\n",
    "start_date_1_year = max_date - pd.DateOffset(years=1)\n",
    "print(start_date_1_year)\n"
   ]
  },
  {
   "cell_type": "code",
   "execution_count": 111,
   "id": "b0b12e8a",
   "metadata": {},
   "outputs": [],
   "source": [
    "### отфильрованный датасет\n",
    "df_last_2_years = df[(df['Order_Date'] >= start_date_2_years) & (df['Order_Date'] <= max_date)]\n",
    "df_last_1_year = df[(df['Order_Date'] >= start_date_1_year) & (df['Order_Date'] <= max_date)]"
   ]
  },
  {
   "cell_type": "markdown",
   "id": "91f9fd94",
   "metadata": {},
   "source": [
    "Какие подгруппы товаров наиболее часто покупают за последние два года (минимум 4 группы)? "
   ]
  },
  {
   "cell_type": "code",
   "execution_count": 113,
   "id": "48e0aa27",
   "metadata": {},
   "outputs": [
    {
     "data": {
      "text/html": [
       "<div>\n",
       "<style scoped>\n",
       "    .dataframe tbody tr th:only-of-type {\n",
       "        vertical-align: middle;\n",
       "    }\n",
       "\n",
       "    .dataframe tbody tr th {\n",
       "        vertical-align: top;\n",
       "    }\n",
       "\n",
       "    .dataframe thead th {\n",
       "        text-align: right;\n",
       "    }\n",
       "</style>\n",
       "<table border=\"1\" class=\"dataframe\">\n",
       "  <thead>\n",
       "    <tr style=\"text-align: right;\">\n",
       "      <th></th>\n",
       "      <th>Sub_Category</th>\n",
       "      <th>ID</th>\n",
       "    </tr>\n",
       "  </thead>\n",
       "  <tbody>\n",
       "    <tr>\n",
       "      <th>3</th>\n",
       "      <td>Binders</td>\n",
       "      <td>907</td>\n",
       "    </tr>\n",
       "    <tr>\n",
       "      <th>12</th>\n",
       "      <td>Paper</td>\n",
       "      <td>810</td>\n",
       "    </tr>\n",
       "    <tr>\n",
       "      <th>9</th>\n",
       "      <td>Furnishings</td>\n",
       "      <td>558</td>\n",
       "    </tr>\n",
       "    <tr>\n",
       "      <th>13</th>\n",
       "      <td>Phones</td>\n",
       "      <td>511</td>\n",
       "    </tr>\n",
       "  </tbody>\n",
       "</table>\n",
       "</div>"
      ],
      "text/plain": [
       "   Sub_Category   ID\n",
       "3       Binders  907\n",
       "12        Paper  810\n",
       "9   Furnishings  558\n",
       "13       Phones  511"
      ]
     },
     "execution_count": 113,
     "metadata": {},
     "output_type": "execute_result"
    }
   ],
   "source": [
    "df_last_2_years[['ID','Sub_Category']].groupby('Sub_Category', as_index = False)\\\n",
    "                                      .count().sort_values(by='ID', ascending=False).head(4)"
   ]
  },
  {
   "cell_type": "markdown",
   "id": "b38cfb78",
   "metadata": {},
   "source": [
    "Какие подгруппы товаров наиболее часто покупают за последний год(минимум 4 группы)?"
   ]
  },
  {
   "cell_type": "code",
   "execution_count": 114,
   "id": "48be475e",
   "metadata": {},
   "outputs": [
    {
     "data": {
      "text/html": [
       "<div>\n",
       "<style scoped>\n",
       "    .dataframe tbody tr th:only-of-type {\n",
       "        vertical-align: middle;\n",
       "    }\n",
       "\n",
       "    .dataframe tbody tr th {\n",
       "        vertical-align: top;\n",
       "    }\n",
       "\n",
       "    .dataframe thead th {\n",
       "        text-align: right;\n",
       "    }\n",
       "</style>\n",
       "<table border=\"1\" class=\"dataframe\">\n",
       "  <thead>\n",
       "    <tr style=\"text-align: right;\">\n",
       "      <th></th>\n",
       "      <th>Sub_Category</th>\n",
       "      <th>ID</th>\n",
       "    </tr>\n",
       "  </thead>\n",
       "  <tbody>\n",
       "    <tr>\n",
       "      <th>3</th>\n",
       "      <td>Binders</td>\n",
       "      <td>496</td>\n",
       "    </tr>\n",
       "    <tr>\n",
       "      <th>12</th>\n",
       "      <td>Paper</td>\n",
       "      <td>454</td>\n",
       "    </tr>\n",
       "    <tr>\n",
       "      <th>9</th>\n",
       "      <td>Furnishings</td>\n",
       "      <td>310</td>\n",
       "    </tr>\n",
       "    <tr>\n",
       "      <th>13</th>\n",
       "      <td>Phones</td>\n",
       "      <td>291</td>\n",
       "    </tr>\n",
       "  </tbody>\n",
       "</table>\n",
       "</div>"
      ],
      "text/plain": [
       "   Sub_Category   ID\n",
       "3       Binders  496\n",
       "12        Paper  454\n",
       "9   Furnishings  310\n",
       "13       Phones  291"
      ]
     },
     "execution_count": 114,
     "metadata": {},
     "output_type": "execute_result"
    }
   ],
   "source": [
    "df_last_1_year[['ID','Sub_Category']].groupby('Sub_Category', as_index = False)\\\n",
    "                                       .count().sort_values(by='ID', ascending=False).head(4)"
   ]
  },
  {
   "cell_type": "markdown",
   "id": "54a3d18f",
   "metadata": {},
   "source": [
    "### Выводы\n",
    "- 1. Самыми популярными подгруппами за все время продаж являются: Binders, Paper, Furnishings, Phones\n",
    "- 2. Самыми популярными подгруппами за 2 последних года продаж являются: Binders, Paper, Furnishings, Phones\n",
    "- 3. Самыми популярными подгруппами за все время продаж являются: Binders, Paper, Furnishings, Phones"
   ]
  },
  {
   "cell_type": "markdown",
   "id": "43d97b8f",
   "metadata": {},
   "source": [
    "### Задание 2\n",
    "Построить boxplot («Ящик с усами») на основе продаж (Sales). Найти мажоритарную черту (т.е. избавиться от аномалий и представить четкую картину распределения величин). Можно использовать правило трех сигм. Однако любые другие решения приветствуются"
   ]
  },
  {
   "cell_type": "code",
   "execution_count": 51,
   "id": "ff7c0e56",
   "metadata": {},
   "outputs": [
    {
     "data": {
      "text/html": [
       "<div>\n",
       "<style scoped>\n",
       "    .dataframe tbody tr th:only-of-type {\n",
       "        vertical-align: middle;\n",
       "    }\n",
       "\n",
       "    .dataframe tbody tr th {\n",
       "        vertical-align: top;\n",
       "    }\n",
       "\n",
       "    .dataframe thead th {\n",
       "        text-align: right;\n",
       "    }\n",
       "</style>\n",
       "<table border=\"1\" class=\"dataframe\">\n",
       "  <thead>\n",
       "    <tr style=\"text-align: right;\">\n",
       "      <th></th>\n",
       "      <th>ID</th>\n",
       "      <th>Order_Date</th>\n",
       "      <th>Class</th>\n",
       "      <th>Region</th>\n",
       "      <th>Sub_Category</th>\n",
       "      <th>Sales</th>\n",
       "    </tr>\n",
       "  </thead>\n",
       "  <tbody>\n",
       "    <tr>\n",
       "      <th>0</th>\n",
       "      <td>646</td>\n",
       "      <td>2018-12-30</td>\n",
       "      <td>Стандарт</td>\n",
       "      <td>Урал</td>\n",
       "      <td>Appliances</td>\n",
       "      <td>37229.080</td>\n",
       "    </tr>\n",
       "    <tr>\n",
       "      <th>1</th>\n",
       "      <td>907</td>\n",
       "      <td>2018-12-30</td>\n",
       "      <td>Стандарт</td>\n",
       "      <td>Владивосток</td>\n",
       "      <td>Bookcases</td>\n",
       "      <td>20994.610</td>\n",
       "    </tr>\n",
       "    <tr>\n",
       "      <th>2</th>\n",
       "      <td>908</td>\n",
       "      <td>2018-12-30</td>\n",
       "      <td>Стандарт</td>\n",
       "      <td>Владивосток</td>\n",
       "      <td>Phones</td>\n",
       "      <td>42133.860</td>\n",
       "    </tr>\n",
       "    <tr>\n",
       "      <th>3</th>\n",
       "      <td>909</td>\n",
       "      <td>2018-12-30</td>\n",
       "      <td>Стандарт</td>\n",
       "      <td>Владивосток</td>\n",
       "      <td>Binders</td>\n",
       "      <td>10612.000</td>\n",
       "    </tr>\n",
       "    <tr>\n",
       "      <th>4</th>\n",
       "      <td>1297</td>\n",
       "      <td>2018-12-30</td>\n",
       "      <td>Стандарт</td>\n",
       "      <td>Калиниград</td>\n",
       "      <td>Binders</td>\n",
       "      <td>28781.130</td>\n",
       "    </tr>\n",
       "    <tr>\n",
       "      <th>...</th>\n",
       "      <td>...</td>\n",
       "      <td>...</td>\n",
       "      <td>...</td>\n",
       "      <td>...</td>\n",
       "      <td>...</td>\n",
       "      <td>...</td>\n",
       "    </tr>\n",
       "    <tr>\n",
       "      <th>9795</th>\n",
       "      <td>1760</td>\n",
       "      <td>2015-01-05</td>\n",
       "      <td>Стандарт</td>\n",
       "      <td>Владивосток</td>\n",
       "      <td>Art</td>\n",
       "      <td>8639.472</td>\n",
       "    </tr>\n",
       "    <tr>\n",
       "      <th>9796</th>\n",
       "      <td>740</td>\n",
       "      <td>2015-01-04</td>\n",
       "      <td>Стандарт</td>\n",
       "      <td>Урал</td>\n",
       "      <td>Labels</td>\n",
       "      <td>15246.050</td>\n",
       "    </tr>\n",
       "    <tr>\n",
       "      <th>9797</th>\n",
       "      <td>741</td>\n",
       "      <td>2015-01-04</td>\n",
       "      <td>Стандарт</td>\n",
       "      <td>Урал</td>\n",
       "      <td>Storage</td>\n",
       "      <td>20415.810</td>\n",
       "    </tr>\n",
       "    <tr>\n",
       "      <th>9798</th>\n",
       "      <td>742</td>\n",
       "      <td>2015-01-04</td>\n",
       "      <td>Стандарт</td>\n",
       "      <td>Урал</td>\n",
       "      <td>Binders</td>\n",
       "      <td>4559.085</td>\n",
       "    </tr>\n",
       "    <tr>\n",
       "      <th>9799</th>\n",
       "      <td>7981</td>\n",
       "      <td>2015-01-03</td>\n",
       "      <td>Стандарт</td>\n",
       "      <td>Урал</td>\n",
       "      <td>Paper</td>\n",
       "      <td>11726.470</td>\n",
       "    </tr>\n",
       "  </tbody>\n",
       "</table>\n",
       "<p>9800 rows × 6 columns</p>\n",
       "</div>"
      ],
      "text/plain": [
       "        ID Order_Date     Class       Region Sub_Category      Sales\n",
       "0      646 2018-12-30  Стандарт         Урал   Appliances  37229.080\n",
       "1      907 2018-12-30  Стандарт  Владивосток    Bookcases  20994.610\n",
       "2      908 2018-12-30  Стандарт  Владивосток       Phones  42133.860\n",
       "3      909 2018-12-30  Стандарт  Владивосток      Binders  10612.000\n",
       "4     1297 2018-12-30  Стандарт   Калиниград      Binders  28781.130\n",
       "...    ...        ...       ...          ...          ...        ...\n",
       "9795  1760 2015-01-05  Стандарт  Владивосток          Art   8639.472\n",
       "9796   740 2015-01-04  Стандарт         Урал       Labels  15246.050\n",
       "9797   741 2015-01-04  Стандарт         Урал      Storage  20415.810\n",
       "9798   742 2015-01-04  Стандарт         Урал      Binders   4559.085\n",
       "9799  7981 2015-01-03  Стандарт         Урал        Paper  11726.470\n",
       "\n",
       "[9800 rows x 6 columns]"
      ]
     },
     "execution_count": 51,
     "metadata": {},
     "output_type": "execute_result"
    }
   ],
   "source": [
    "df"
   ]
  },
  {
   "cell_type": "markdown",
   "id": "67590207",
   "metadata": {},
   "source": [
    "Построим боксплот для исходных данных"
   ]
  },
  {
   "cell_type": "code",
   "execution_count": 52,
   "id": "f3d68865",
   "metadata": {},
   "outputs": [
    {
     "data": {
      "image/png": "[encoded data removed]",
      "text/plain": [
       "<Figure size 1000x600 with 1 Axes>"
      ]
     },
     "metadata": {},
     "output_type": "display_data"
    }
   ],
   "source": [
    "plt.figure(figsize=(10, 6))\n",
    "sns.boxplot(x=df['Sales'])\n",
    "plt.title('Boxplot of Sales (Original)')\n",
    "plt.xlabel('Sales')\n",
    "plt.show()"
   ]
  },
  {
   "cell_type": "code",
   "execution_count": 53,
   "id": "87c34879",
   "metadata": {},
   "outputs": [
    {
     "data": {
      "text/plain": [
       "count     9800.000000\n",
       "mean     22921.757737\n",
       "std      12601.999815\n",
       "min       1002.794000\n",
       "25%      12135.625000\n",
       "50%      22882.060000\n",
       "75%      33730.130000\n",
       "max      44995.410000\n",
       "Name: Sales, dtype: float64"
      ]
     },
     "execution_count": 53,
     "metadata": {},
     "output_type": "execute_result"
    }
   ],
   "source": [
    "df['Sales'].describe()"
   ]
  },
  {
   "cell_type": "code",
   "execution_count": 54,
   "id": "5973c46c",
   "metadata": {},
   "outputs": [],
   "source": [
    "# Очистка данных по правилу трех сигм\n",
    "mean_sales = df['Sales'].mean()\n",
    "std_sales = df['Sales'].std()\n",
    "\n",
    "# Определение границ для выбросов\n",
    "lower_bound = mean_sales - 3 * std_sales\n",
    "upper_bound = mean_sales + 3 * std_sales"
   ]
  },
  {
   "cell_type": "code",
   "execution_count": 55,
   "id": "e0096bb3",
   "metadata": {},
   "outputs": [
    {
     "name": "stdout",
     "output_type": "stream",
     "text": [
      "                ID         Sales\n",
      "count  9800.000000   9800.000000\n",
      "mean   4900.500000  22921.757737\n",
      "std    2829.160653  12601.999815\n",
      "min       1.000000   1002.794000\n",
      "25%    2450.750000  12135.625000\n",
      "50%    4900.500000  22882.060000\n",
      "75%    7350.250000  33730.130000\n",
      "max    9800.000000  44995.410000\n"
     ]
    }
   ],
   "source": [
    "# Фильтрация данных для удаления выбросов\n",
    "df_cleaned = df[(df['Sales'] >= lower_bound) & (df['Sales'] <= upper_bound)]\n",
    "\n",
    "# Проверка очищенных данных\n",
    "print(df_cleaned.describe())"
   ]
  },
  {
   "cell_type": "code",
   "execution_count": 56,
   "id": "a3333582",
   "metadata": {},
   "outputs": [
    {
     "data": {
      "image/png": "[encoded data removed]",
      "text/plain": [
       "<Figure size 1000x600 with 1 Axes>"
      ]
     },
     "metadata": {},
     "output_type": "display_data"
    }
   ],
   "source": [
    "# Построение Boxplot для очищенных данных\n",
    "plt.figure(figsize=(10, 6))\n",
    "sns.boxplot(x=df_cleaned['Sales'])\n",
    "plt.title('Boxplot of Sales (Cleaned)')\n",
    "plt.xlabel('Sales')\n",
    "plt.show()"
   ]
  },
  {
   "cell_type": "markdown",
   "id": "c05429f4",
   "metadata": {},
   "source": [
    "### Задание 3 \n",
    "Для этого задания необходимо разбить все покупки на энное количество групп “Sale_group” (Допустим маленькие продажи, средние и высокие) на основе Sales Сгруппировать данные на основе региона и группы продаж (Region, Sale_group). Определить основные тенденции и паттерны. Выделить наиболее «прибыльную» группу"
   ]
  },
  {
   "cell_type": "code",
   "execution_count": 116,
   "id": "ad00cc55",
   "metadata": {},
   "outputs": [],
   "source": [
    "# Определяем границы для групп по 33 и 67 квартилю\n",
    "sales = df['Sales']\n",
    "quantiles = sales.quantile([0.33, 0.67])\n",
    "\n",
    "def sale_group(amount):\n",
    "    if amount <= quantiles[0.33]:\n",
    "        return 'Low'\n",
    "    elif amount <= quantiles[0.67]:\n",
    "        return 'Medium'\n",
    "    else:\n",
    "        return 'High'\n",
    "\n",
    "df['Sale_group'] = df['Sales'].apply(sale_group)"
   ]
  },
  {
   "cell_type": "code",
   "execution_count": 117,
   "id": "ab713f6e",
   "metadata": {},
   "outputs": [
    {
     "data": {
      "text/plain": [
       "0.33    15496.3926\n",
       "0.67    30247.2916\n",
       "Name: Sales, dtype: float64"
      ]
     },
     "execution_count": 117,
     "metadata": {},
     "output_type": "execute_result"
    }
   ],
   "source": [
    "quantiles"
   ]
  },
  {
   "cell_type": "code",
   "execution_count": 118,
   "id": "d0cbb9c4",
   "metadata": {},
   "outputs": [
    {
     "data": {
      "text/html": [
       "<div>\n",
       "<style scoped>\n",
       "    .dataframe tbody tr th:only-of-type {\n",
       "        vertical-align: middle;\n",
       "    }\n",
       "\n",
       "    .dataframe tbody tr th {\n",
       "        vertical-align: top;\n",
       "    }\n",
       "\n",
       "    .dataframe thead th {\n",
       "        text-align: right;\n",
       "    }\n",
       "</style>\n",
       "<table border=\"1\" class=\"dataframe\">\n",
       "  <thead>\n",
       "    <tr style=\"text-align: right;\">\n",
       "      <th></th>\n",
       "      <th>ID</th>\n",
       "      <th>Order_Date</th>\n",
       "      <th>Class</th>\n",
       "      <th>Region</th>\n",
       "      <th>Sub_Category</th>\n",
       "      <th>Sales</th>\n",
       "      <th>Sale_group</th>\n",
       "    </tr>\n",
       "  </thead>\n",
       "  <tbody>\n",
       "    <tr>\n",
       "      <th>0</th>\n",
       "      <td>646</td>\n",
       "      <td>2018-12-30</td>\n",
       "      <td>Стандарт</td>\n",
       "      <td>Урал</td>\n",
       "      <td>Appliances</td>\n",
       "      <td>37229.080</td>\n",
       "      <td>High</td>\n",
       "    </tr>\n",
       "    <tr>\n",
       "      <th>1</th>\n",
       "      <td>907</td>\n",
       "      <td>2018-12-30</td>\n",
       "      <td>Стандарт</td>\n",
       "      <td>Владивосток</td>\n",
       "      <td>Bookcases</td>\n",
       "      <td>20994.610</td>\n",
       "      <td>Medium</td>\n",
       "    </tr>\n",
       "    <tr>\n",
       "      <th>2</th>\n",
       "      <td>908</td>\n",
       "      <td>2018-12-30</td>\n",
       "      <td>Стандарт</td>\n",
       "      <td>Владивосток</td>\n",
       "      <td>Phones</td>\n",
       "      <td>42133.860</td>\n",
       "      <td>High</td>\n",
       "    </tr>\n",
       "    <tr>\n",
       "      <th>3</th>\n",
       "      <td>909</td>\n",
       "      <td>2018-12-30</td>\n",
       "      <td>Стандарт</td>\n",
       "      <td>Владивосток</td>\n",
       "      <td>Binders</td>\n",
       "      <td>10612.000</td>\n",
       "      <td>Low</td>\n",
       "    </tr>\n",
       "    <tr>\n",
       "      <th>4</th>\n",
       "      <td>1297</td>\n",
       "      <td>2018-12-30</td>\n",
       "      <td>Стандарт</td>\n",
       "      <td>Калиниград</td>\n",
       "      <td>Binders</td>\n",
       "      <td>28781.130</td>\n",
       "      <td>Medium</td>\n",
       "    </tr>\n",
       "    <tr>\n",
       "      <th>...</th>\n",
       "      <td>...</td>\n",
       "      <td>...</td>\n",
       "      <td>...</td>\n",
       "      <td>...</td>\n",
       "      <td>...</td>\n",
       "      <td>...</td>\n",
       "      <td>...</td>\n",
       "    </tr>\n",
       "    <tr>\n",
       "      <th>9795</th>\n",
       "      <td>1760</td>\n",
       "      <td>2015-01-05</td>\n",
       "      <td>Стандарт</td>\n",
       "      <td>Владивосток</td>\n",
       "      <td>Art</td>\n",
       "      <td>8639.472</td>\n",
       "      <td>Low</td>\n",
       "    </tr>\n",
       "    <tr>\n",
       "      <th>9796</th>\n",
       "      <td>740</td>\n",
       "      <td>2015-01-04</td>\n",
       "      <td>Стандарт</td>\n",
       "      <td>Урал</td>\n",
       "      <td>Labels</td>\n",
       "      <td>15246.050</td>\n",
       "      <td>Low</td>\n",
       "    </tr>\n",
       "    <tr>\n",
       "      <th>9797</th>\n",
       "      <td>741</td>\n",
       "      <td>2015-01-04</td>\n",
       "      <td>Стандарт</td>\n",
       "      <td>Урал</td>\n",
       "      <td>Storage</td>\n",
       "      <td>20415.810</td>\n",
       "      <td>Medium</td>\n",
       "    </tr>\n",
       "    <tr>\n",
       "      <th>9798</th>\n",
       "      <td>742</td>\n",
       "      <td>2015-01-04</td>\n",
       "      <td>Стандарт</td>\n",
       "      <td>Урал</td>\n",
       "      <td>Binders</td>\n",
       "      <td>4559.085</td>\n",
       "      <td>Low</td>\n",
       "    </tr>\n",
       "    <tr>\n",
       "      <th>9799</th>\n",
       "      <td>7981</td>\n",
       "      <td>2015-01-03</td>\n",
       "      <td>Стандарт</td>\n",
       "      <td>Урал</td>\n",
       "      <td>Paper</td>\n",
       "      <td>11726.470</td>\n",
       "      <td>Low</td>\n",
       "    </tr>\n",
       "  </tbody>\n",
       "</table>\n",
       "<p>9800 rows × 7 columns</p>\n",
       "</div>"
      ],
      "text/plain": [
       "        ID Order_Date     Class       Region Sub_Category      Sales  \\\n",
       "0      646 2018-12-30  Стандарт         Урал   Appliances  37229.080   \n",
       "1      907 2018-12-30  Стандарт  Владивосток    Bookcases  20994.610   \n",
       "2      908 2018-12-30  Стандарт  Владивосток       Phones  42133.860   \n",
       "3      909 2018-12-30  Стандарт  Владивосток      Binders  10612.000   \n",
       "4     1297 2018-12-30  Стандарт   Калиниград      Binders  28781.130   \n",
       "...    ...        ...       ...          ...          ...        ...   \n",
       "9795  1760 2015-01-05  Стандарт  Владивосток          Art   8639.472   \n",
       "9796   740 2015-01-04  Стандарт         Урал       Labels  15246.050   \n",
       "9797   741 2015-01-04  Стандарт         Урал      Storage  20415.810   \n",
       "9798   742 2015-01-04  Стандарт         Урал      Binders   4559.085   \n",
       "9799  7981 2015-01-03  Стандарт         Урал        Paper  11726.470   \n",
       "\n",
       "     Sale_group  \n",
       "0          High  \n",
       "1        Medium  \n",
       "2          High  \n",
       "3           Low  \n",
       "4        Medium  \n",
       "...         ...  \n",
       "9795        Low  \n",
       "9796        Low  \n",
       "9797     Medium  \n",
       "9798        Low  \n",
       "9799        Low  \n",
       "\n",
       "[9800 rows x 7 columns]"
      ]
     },
     "execution_count": 118,
     "metadata": {},
     "output_type": "execute_result"
    }
   ],
   "source": [
    "df"
   ]
  },
  {
   "cell_type": "code",
   "execution_count": 119,
   "id": "38363935",
   "metadata": {},
   "outputs": [],
   "source": [
    "grouped_data = df.groupby(['Region','Sale_group'],as_index=False).agg({'Sales': ['sum', 'mean', 'count']})"
   ]
  },
  {
   "cell_type": "code",
   "execution_count": 120,
   "id": "efa552d9",
   "metadata": {},
   "outputs": [],
   "source": [
    "grouped_data.columns = ['Region', 'Sale_group', 'Total_Sales', 'Average_Sales', 'Count']"
   ]
  },
  {
   "cell_type": "code",
   "execution_count": 121,
   "id": "6b158eb1",
   "metadata": {},
   "outputs": [
    {
     "data": {
      "text/html": [
       "<div>\n",
       "<style scoped>\n",
       "    .dataframe tbody tr th:only-of-type {\n",
       "        vertical-align: middle;\n",
       "    }\n",
       "\n",
       "    .dataframe tbody tr th {\n",
       "        vertical-align: top;\n",
       "    }\n",
       "\n",
       "    .dataframe thead th {\n",
       "        text-align: right;\n",
       "    }\n",
       "</style>\n",
       "<table border=\"1\" class=\"dataframe\">\n",
       "  <thead>\n",
       "    <tr style=\"text-align: right;\">\n",
       "      <th></th>\n",
       "      <th>Region</th>\n",
       "      <th>Sale_group</th>\n",
       "      <th>Total_Sales</th>\n",
       "      <th>Average_Sales</th>\n",
       "      <th>Count</th>\n",
       "    </tr>\n",
       "  </thead>\n",
       "  <tbody>\n",
       "    <tr>\n",
       "      <th>0</th>\n",
       "      <td>Владивосток</td>\n",
       "      <td>High</td>\n",
       "      <td>3.563117e+07</td>\n",
       "      <td>37506.495853</td>\n",
       "      <td>950</td>\n",
       "    </tr>\n",
       "    <tr>\n",
       "      <th>1</th>\n",
       "      <td>Владивосток</td>\n",
       "      <td>Low</td>\n",
       "      <td>7.643758e+06</td>\n",
       "      <td>8192.666490</td>\n",
       "      <td>933</td>\n",
       "    </tr>\n",
       "    <tr>\n",
       "      <th>2</th>\n",
       "      <td>Владивосток</td>\n",
       "      <td>Medium</td>\n",
       "      <td>2.067776e+07</td>\n",
       "      <td>22924.343670</td>\n",
       "      <td>902</td>\n",
       "    </tr>\n",
       "    <tr>\n",
       "      <th>3</th>\n",
       "      <td>Калиниград</td>\n",
       "      <td>High</td>\n",
       "      <td>3.760255e+07</td>\n",
       "      <td>37640.189019</td>\n",
       "      <td>999</td>\n",
       "    </tr>\n",
       "    <tr>\n",
       "      <th>4</th>\n",
       "      <td>Калиниград</td>\n",
       "      <td>Low</td>\n",
       "      <td>8.702214e+06</td>\n",
       "      <td>8473.431084</td>\n",
       "      <td>1027</td>\n",
       "    </tr>\n",
       "    <tr>\n",
       "      <th>5</th>\n",
       "      <td>Калиниград</td>\n",
       "      <td>Medium</td>\n",
       "      <td>2.562554e+07</td>\n",
       "      <td>23003.175197</td>\n",
       "      <td>1114</td>\n",
       "    </tr>\n",
       "    <tr>\n",
       "      <th>6</th>\n",
       "      <td>Москва</td>\n",
       "      <td>High</td>\n",
       "      <td>2.013750e+07</td>\n",
       "      <td>37569.955616</td>\n",
       "      <td>536</td>\n",
       "    </tr>\n",
       "    <tr>\n",
       "      <th>7</th>\n",
       "      <td>Москва</td>\n",
       "      <td>Low</td>\n",
       "      <td>4.225440e+06</td>\n",
       "      <td>8188.838050</td>\n",
       "      <td>516</td>\n",
       "    </tr>\n",
       "    <tr>\n",
       "      <th>8</th>\n",
       "      <td>Москва</td>\n",
       "      <td>Medium</td>\n",
       "      <td>1.252871e+07</td>\n",
       "      <td>22946.364231</td>\n",
       "      <td>546</td>\n",
       "    </tr>\n",
       "    <tr>\n",
       "      <th>9</th>\n",
       "      <td>Урал</td>\n",
       "      <td>High</td>\n",
       "      <td>2.798655e+07</td>\n",
       "      <td>37365.219319</td>\n",
       "      <td>749</td>\n",
       "    </tr>\n",
       "    <tr>\n",
       "      <th>10</th>\n",
       "      <td>Урал</td>\n",
       "      <td>Low</td>\n",
       "      <td>6.294823e+06</td>\n",
       "      <td>8304.515470</td>\n",
       "      <td>758</td>\n",
       "    </tr>\n",
       "    <tr>\n",
       "      <th>11</th>\n",
       "      <td>Урал</td>\n",
       "      <td>Medium</td>\n",
       "      <td>1.757722e+07</td>\n",
       "      <td>22827.552857</td>\n",
       "      <td>770</td>\n",
       "    </tr>\n",
       "  </tbody>\n",
       "</table>\n",
       "</div>"
      ],
      "text/plain": [
       "         Region Sale_group   Total_Sales  Average_Sales  Count\n",
       "0   Владивосток       High  3.563117e+07   37506.495853    950\n",
       "1   Владивосток        Low  7.643758e+06    8192.666490    933\n",
       "2   Владивосток     Medium  2.067776e+07   22924.343670    902\n",
       "3    Калиниград       High  3.760255e+07   37640.189019    999\n",
       "4    Калиниград        Low  8.702214e+06    8473.431084   1027\n",
       "5    Калиниград     Medium  2.562554e+07   23003.175197   1114\n",
       "6        Москва       High  2.013750e+07   37569.955616    536\n",
       "7        Москва        Low  4.225440e+06    8188.838050    516\n",
       "8        Москва     Medium  1.252871e+07   22946.364231    546\n",
       "9          Урал       High  2.798655e+07   37365.219319    749\n",
       "10         Урал        Low  6.294823e+06    8304.515470    758\n",
       "11         Урал     Medium  1.757722e+07   22827.552857    770"
      ]
     },
     "execution_count": 121,
     "metadata": {},
     "output_type": "execute_result"
    }
   ],
   "source": [
    "grouped_data"
   ]
  },
  {
   "cell_type": "code",
   "execution_count": 122,
   "id": "dc2f16f9",
   "metadata": {},
   "outputs": [
    {
     "data": {
      "text/plain": [
       "'High'"
      ]
     },
     "execution_count": 122,
     "metadata": {},
     "output_type": "execute_result"
    }
   ],
   "source": [
    "grouped_data.groupby('Sale_group')['Total_Sales'].sum().idxmax()\n"
   ]
  },
  {
   "cell_type": "code",
   "execution_count": 123,
   "id": "f5eb30cd",
   "metadata": {},
   "outputs": [
    {
     "data": {
      "image/png": "[encoded data removed]",
      "text/plain": [
       "<Figure size 800x800 with 1 Axes>"
      ]
     },
     "metadata": {},
     "output_type": "display_data"
    }
   ],
   "source": [
    "group_sales = df['Sale_group'].value_counts()\n",
    "plt.figure(figsize=(8, 8))\n",
    "plt.pie(group_sales, labels=group_sales.index, autopct='%1.1f%%', startangle=140)\n",
    "plt.title('Распределение по группам продаж')\n",
    "plt.show()"
   ]
  },
  {
   "cell_type": "code",
   "execution_count": 125,
   "id": "ec584c57",
   "metadata": {},
   "outputs": [
    {
     "data": {
      "image/png": "[encoded data removed]",
      "text/plain": [
       "<Figure size 1200x800 with 1 Axes>"
      ]
     },
     "metadata": {},
     "output_type": "display_data"
    },
    {
     "data": {
      "image/png": "[encoded data removed]",
      "text/plain": [
       "<Figure size 800x800 with 1 Axes>"
      ]
     },
     "metadata": {},
     "output_type": "display_data"
    }
   ],
   "source": [
    "plt.figure(figsize=(12, 8))\n",
    "sns.barplot(x='Region', y='Total_Sales', hue='Sale_group', data=grouped_data)\n",
    "plt.title('Суммарные продажи по регионам и группам продаж')\n",
    "plt.xlabel('Регион')\n",
    "plt.ylabel('Суммарные продажи')\n",
    "plt.xticks(rotation=45)\n",
    "plt.legend(title='Группа продаж')\n",
    "plt.show()\n",
    "\n",
    "region_sales = df['Region'].value_counts()\n",
    "plt.figure(figsize=(8, 8))\n",
    "plt.pie(region_sales, labels=region_sales.index, autopct='%1.1f%%', startangle=140)\n",
    "plt.title('Распределение по регионам')\n",
    "plt.show()"
   ]
  },
  {
   "cell_type": "markdown",
   "id": "71ff76bf",
   "metadata": {},
   "source": [
    "Лидером по суммарным продажам является Калининград"
   ]
  },
  {
   "cell_type": "code",
   "execution_count": 88,
   "id": "e3372c2f",
   "metadata": {},
   "outputs": [
    {
     "data": {
      "image/png": "[encoded data removed]",
      "text/plain": [
       "<Figure size 1200x800 with 1 Axes>"
      ]
     },
     "metadata": {},
     "output_type": "display_data"
    }
   ],
   "source": [
    "plt.figure(figsize=(12, 8))\n",
    "sns.barplot(x='Region', y='Average_Sales', hue='Sale_group', data=grouped_data)\n",
    "plt.title('Средние продажи по регионам и группам продаж')\n",
    "plt.xlabel('Регион')\n",
    "plt.ylabel('Средние продажи')\n",
    "plt.xticks(rotation=45)\n",
    "plt.legend(title='Группа продаж')\n",
    "plt.show()"
   ]
  },
  {
   "cell_type": "markdown",
   "id": "43861f7f",
   "metadata": {},
   "source": [
    "По графику видно, что средние продажи во всех регионах примерно одинаковые"
   ]
  },
  {
   "cell_type": "markdown",
   "id": "ce292e36",
   "metadata": {},
   "source": [
    "### Выводы:\n",
    "     1. Лидером по продажам является Калиниград\n",
    "     2. Средние продажи по группам во всех регионах практические одинаковые\n",
    "     3. Распределение числа продаж по группам равное "
   ]
  },
  {
   "cell_type": "code",
   "execution_count": null,
   "id": "f2f97a11",
   "metadata": {},
   "outputs": [],
   "source": []
  }
 ],
 "metadata": {
  "kernelspec": {
   "display_name": "Python 3 (ipykernel)",
   "language": "python",
   "name": "python3"
  },
  "language_info": {
   "codemirror_mode": {
    "name": "ipython",
    "version": 3
   },
   "file_extension": ".py",
   "mimetype": "text/x-python",
   "name": "python",
   "nbconvert_exporter": "python",
   "pygments_lexer": "ipython3",
   "version": "3.9.13"
  }
 },
 "nbformat": 4,
 "nbformat_minor": 5
}
